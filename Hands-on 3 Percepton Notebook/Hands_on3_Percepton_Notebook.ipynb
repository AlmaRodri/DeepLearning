{
  "nbformat": 4,
  "nbformat_minor": 0,
  "metadata": {
    "colab": {
      "provenance": []
    },
    "kernelspec": {
      "name": "python3",
      "display_name": "Python 3"
    },
    "language_info": {
      "name": "python"
    }
  },
  "cells": [
    {
      "cell_type": "markdown",
      "source": [
        "# Tutorial: Fundamentos e Implementación del Perceptrón\n",
        "---\n",
        "## Fundamentos de la técnica\n",
        "El Perceptrón es el modelo más simple de una red neuronal, concebido por Frank Rosenblatt en 1957. Es un algoritmo de aprendizaje supervisado utilizado para la clasificación binaria. Esto significa que su objetivo es clasificar un conjunto de entradas en una de dos categorías (por ejemplo, 0 o 1, -1 o 1, Verdadero o Falso).\n",
        "\n",
        "Funciona como un clasificador lineal; es decir, traza una línea (o un hiperplano en dimensiones superiores) para separar las dos clases. La condición fundamental para que el Perceptrón funcione correctamente es que los datos deben ser linealmente separables.\n",
        "\n",
        "El proceso de aprendizaje consiste en ajustar sus pesos internos de forma iterativa basándose en los errores de clasificación que comete durante el entrenamiento.\n",
        "\n",
        "---\n",
        "## Modelo Matemático de la técnica\n",
        "El funcionamiento del Perceptrón se basa en dos cálculos principales:\n",
        "\n",
        "**Función de Entrada (Suma Ponderada):** El modelo calcula una suma ponderada de las características de entrada ($x_{i}$)y sus pesos correspondientes ($w_{i}$), añadiendo un término de sesgo (b). El sesgo permite que la línea de decisión se desplace, sin necesidad de pasar por el origen.\n",
        "$$z=\\sum_{i=1}^n w_{i}x_{i} + b = w * x + b$$\n",
        "\n",
        "**Función de Activación (Función Escalón):**\n",
        "La salida de la suma ponderada (z) pasa a través de una función de activación, que en el Perceptrón clásico es una función escalón (step function). Esta función produce una salida binaria.\n",
        "$$\n",
        "\\hat{y} = f(z) =\n",
        "\\begin{cases}\n",
        "1 & \\text{si } z > \\theta \\\\\n",
        "0 & \\text{si no}\n",
        "\\end{cases}\n",
        "$$\n",
        "Donde θ es un umbral, que a menudo se simplifica a 0 al incorporar el sesgo en los pesos.\n",
        "\n",
        "El aprendizaje ocurre ajustando los pesos con la siguiente regla de actualización cada vez que hay un error:\n",
        "\n",
        "$$w_{i}(nuevo)= w_{i}(viejo)+η⋅(y-\\hat{y})⋅x_{i}$$\n",
        "\n",
        "+ η (eta) es la tasa de aprendizaje (learning rate), un valor pequeño que controla la magnitud del ajuste.\n",
        "+ $(y-\\hat{y})$ es el error (la diferencia entre el valor real y la predicción).\n",
        "\n",
        "---\n",
        "## Descripción de la librería, clases, funciones y su parámetros empleadas\n",
        "Para implementar nuestro Perceptrón, utilizaremos las siguientes herramientas de Python:\n",
        "\n",
        "+ **NumPy:** Es la librería fundamental para la computación científica en Python. La usaremos para manejar los vectores y matrices de manera eficiente (entradas, pesos, etc.).\n",
        "\n",
        "+ **Matplotlib:** Es una librería para crear visualizaciones estáticas, animadas e interactivas. La emplearemos para generar los gráficos de dispersión y visualizar la línea de decisión del modelo.\n",
        "\n",
        "+ **Sklearn:** Una de las librerías más importantes para el Machine Learning en Python.\n",
        "\n",
        "+ **Sklearn.metrics:** Módulo que contiene funciones para evaluar el rendimiento del modelo, como accuracy_score.\n",
        "\n",
        "+ **Sklearn.linear_model.Perceptron**: La implementación optimizada y robusta del algoritmo Perceptrón.\n",
        "  + eta0: tasa de aprendizaje inicial\n",
        "  + max_iter: número máximo de iteraciones (epochs)\n",
        "  + tol: tolerancia para la parada temprana (None para desactivar)\n",
        "  + fit_intercept: si incluir o no el intercepto (bias)\n",
        "\n",
        "---\n",
        "## Pipeline\n",
        "A continuación se desarrollan las subsecciones del pipeline.\n"
      ],
      "metadata": {
        "id": "kTfiPdKF-6ZQ"
      }
    },
    {
      "cell_type": "markdown",
      "source": [
        "###  Preprocesamiento\n",
        "En esta sección se preparan los datos, pero como en el código ya están definidos y listos para usarse, solo colocamos su definición aquí."
      ],
      "metadata": {
        "id": "_3dwaefLTCmK"
      }
    },
    {
      "cell_type": "code",
      "source": [
        "import pandas as pd\n",
        "import numpy as np\n",
        "import matplotlib.pyplot as plt\n",
        "from sklearn.datasets import load_iris\n",
        "\n",
        "# 1. Cargar el dataset de lirios (Iris)\n",
        "iris = load_iris()\n",
        "X = iris.data\n",
        "y = iris.target\n",
        "\n",
        "# Para este ejemplo, convertiremos el problema a clasificación binaria:\n",
        "# Etiqueta 1 si es Iris-Setosa (que es y==0), y 0 para las otras dos especies.\n",
        "y_binary = np.where(y == 0, 1, 0)\n",
        "\n",
        "# 2. Análisis Estadístico y Gráfico de Dispersión\n",
        "# Usaremos las dos primeras características: longitud y ancho del sépalo.\n",
        "plt.scatter(X[:, 0], X[:, 1], c=y_binary, cmap='winter', alpha=0.8)\n",
        "plt.xlabel(\"Longitud del Sépalo (cm)\")\n",
        "plt.ylabel(\"Ancho del Sépalo (cm)\")\n",
        "plt.title(\"Visualización del Dataset Iris (Setosa vs. Otras)\")\n",
        "plt.show()\n",
        "\n",
        "\n",
        "# 3. Preparar los datos para el Perceptrón\n",
        "# Añadimos una columna de unos a X para el término de sesgo (bias)\n",
        "X_b = np.c_[np.ones((len(X), 1)), X]\n",
        "\n",
        "# Combinar características y etiquetas para barajar\n",
        "combined_data = np.hstack((X_b, y_binary.reshape(-1, 1)))\n",
        "\n",
        "# 4. Mezclar y dividir los datos\n",
        "np.random.seed(5) # Para reproducibilidad\n",
        "np.random.shuffle(combined_data)\n",
        "\n",
        "train_size = int(0.7 * len(combined_data))\n",
        "train = combined_data[:train_size]\n",
        "test = combined_data[train_size:]\n",
        "\n",
        "# Separar características (X) de etiquetas (y)\n",
        "x_train = train[:, :-1]\n",
        "y_train = train[:, -1]\n",
        "\n",
        "x_test = test[:, :-1]\n",
        "y_test = test[:, -1]"
      ],
      "metadata": {
        "colab": {
          "base_uri": "https://localhost:8080/",
          "height": 472
        },
        "id": "q38CHHesSz1m",
        "outputId": "fbd4b97e-b151-42f3-f496-fbfab57bf9ac"
      },
      "execution_count": 29,
      "outputs": [
        {
          "output_type": "display_data",
          "data": {
            "text/plain": [
              "<Figure size 640x480 with 1 Axes>"
            ],
            "image/png": "[encoded data removed]"
          },
          "metadata": {}
        }
      ]
    },
    {
      "cell_type": "markdown",
      "source": [
        "### Feature Engineering"
      ],
      "metadata": {
        "id": "4t8uMluHTGfs"
      }
    },
    {
      "cell_type": "markdown",
      "source": [
        "### Modelo Selection"
      ],
      "metadata": {
        "id": "hH7Z0_NpdzDV"
      }
    },
    {
      "cell_type": "markdown",
      "source": [
        "### Model Training\n",
        "Aquí se define la función del Perceptrón para el entrenamiento (perceptron_train) y se utiliza para ajustar el modelo a los datos de entrenamiento (x_train, y_train), obteniendo los pesos finales (w)."
      ],
      "metadata": {
        "id": "2QnSp7Ukd_ND"
      }
    },
    {
      "cell_type": "code",
      "source": [
        "# Función para entrenar el modelo Perceptrón\n",
        "def perceptron_train(x, y, eta, t):\n",
        "    w = np.zeros(x.shape[1])\n",
        "    J = [] # Historial del costo (Suma de Errores al Cuadrado)\n",
        "\n",
        "    for _ in range(t):\n",
        "        errors = 0\n",
        "        for xi, target in zip(x, y):\n",
        "            update = eta * (target - (np.dot(xi, w) >= 0))\n",
        "            w += update * xi\n",
        "            errors += int(update != 0.0)\n",
        "        J.append(errors)\n",
        "    return w, J\n",
        "\n",
        "# Definición de hiperparámetros\n",
        "eta = 0.01  # Tasa de aprendizaje\n",
        "t = 50      # Número de iteraciones (épocas)\n",
        "\n",
        "# Entrenar el modelo\n",
        "w, J = perceptron_train(x_train, y_train, eta, t)\n",
        "\n",
        "print(\"Pesos finales del modelo entrenado:\")\n",
        "print(w)"
      ],
      "metadata": {
        "colab": {
          "base_uri": "https://localhost:8080/"
        },
        "id": "ISn-b1lMd_hO",
        "outputId": "03517622-6009-4bc5-856e-876cbfe77f66"
      },
      "execution_count": 30,
      "outputs": [
        {
          "output_type": "stream",
          "name": "stdout",
          "text": [
            "Pesos finales del modelo entrenado:\n",
            "[ 0.01   0.022  0.037 -0.073 -0.035]\n"
          ]
        }
      ]
    },
    {
      "cell_type": "markdown",
      "source": [
        "### Prediction\n",
        "Se utiliza el modelo ya entrenado (w) para hacer predicciones sobre el conjunto de prueba."
      ],
      "metadata": {
        "id": "ms_IUWmUeFWV"
      }
    },
    {
      "cell_type": "code",
      "source": [
        "# Función para realizar predicciones con el modelo entrenado\n",
        "def perceptron_test(x, w, z):\n",
        "    y_pred = []\n",
        "    for i in range(0, len(x)):\n",
        "        f = np.dot(x[i], w)\n",
        "\n",
        "        # Función de activación para predecir la clase\n",
        "        if f > z:\n",
        "            yhat = 1\n",
        "        else:\n",
        "            yhat = 0\n",
        "        y_pred.append(yhat)\n",
        "    return y_pred\n",
        "\n",
        "# Realizar predicciones sobre el conjunto de prueba\n",
        "y_pred = perceptron_test(x_test, w, z)"
      ],
      "metadata": {
        "id": "ci4tDk6Lin6c"
      },
      "execution_count": 31,
      "outputs": []
    },
    {
      "cell_type": "markdown",
      "source": [
        "### Model Evaluation\n"
      ],
      "metadata": {
        "id": "Ul99bp7peKh-"
      }
    },
    {
      "cell_type": "code",
      "source": [
        "from sklearn.metrics import accuracy_score\n",
        "\n",
        "# Imprimir la evolución del error (SSE) durante el entrenamiento\n",
        "print(\"\\nEvolución del error (SSE) por iteración:\")\n",
        "print(J)\n",
        "\n",
        "# Calcular y mostrar la precisión del modelo en los datos de prueba\n",
        "print(\"\\nLa puntuación de precisión (accuracy) es:\")\n",
        "print(accuracy_score(y_test, y_pred))\n"
      ],
      "metadata": {
        "colab": {
          "base_uri": "https://localhost:8080/"
        },
        "id": "w9H6Gi22fCmM",
        "outputId": "21677e35-91e0-4189-f36e-655ee82e7e67"
      },
      "execution_count": 32,
      "outputs": [
        {
          "output_type": "stream",
          "name": "stdout",
          "text": [
            "\n",
            "Evolución del error (SSE) por iteración:\n",
            "[7, 0, 0, 0, 0, 0, 0, 0, 0, 0, 0, 0, 0, 0, 0, 0, 0, 0, 0, 0, 0, 0, 0, 0, 0, 0, 0, 0, 0, 0, 0, 0, 0, 0, 0, 0, 0, 0, 0, 0, 0, 0, 0, 0, 0, 0, 0, 0, 0, 0]\n",
            "\n",
            "La puntuación de precisión (accuracy) es:\n",
            "1.0\n"
          ]
        }
      ]
    },
    {
      "cell_type": "markdown",
      "source": [
        "## Perceptron con sklearn para reconocer las compuertas lógicas AND y OR"
      ],
      "metadata": {
        "id": "OgfFWWCLfI5B"
      }
    },
    {
      "cell_type": "code",
      "source": [
        "# Importación de librerías\n",
        "import numpy as np\n",
        "import matplotlib.pyplot as plt\n",
        "from sklearn.linear_model import Perceptron as SklearnPerceptron\n",
        "from sklearn.metrics import accuracy_score"
      ],
      "metadata": {
        "id": "mKtFMPACJgvl"
      },
      "execution_count": 33,
      "outputs": []
    },
    {
      "cell_type": "code",
      "execution_count": 34,
      "metadata": {
        "colab": {
          "base_uri": "https://localhost:8080/"
        },
        "id": "rL3Tj-r4OEPf",
        "outputId": "93779e7d-fcc2-4949-ca63-db511990b6f4"
      },
      "outputs": [
        {
          "output_type": "stream",
          "name": "stdout",
          "text": [
            "--- Compuerta AND ---\n",
            "Pesos aprendidos: [[2. 2.]]\n",
            "Sesgo (bias) aprendido: [-2.]\n",
            "\n",
            "Predicciones para las entradas AND:\n",
            "Predicción para [0, 0]: 0\n",
            "Predicción para [0, 1]: 0\n",
            "Predicción para [1, 0]: 0\n",
            "Predicción para [1, 1]: 1\n"
          ]
        }
      ],
      "source": [
        "from sklearn.linear_model import Perceptron\n",
        "\n",
        "# Datos de entrenamiento para la compuerta AND\n",
        "# Entradas (X): [0,0], [0,1], [1,0], [1,1]\n",
        "X_and = np.array([[0, 0], [0, 1], [1, 0], [1, 1]])\n",
        "# Salidas (y): 0, 0, 0, 1\n",
        "y_and = np.array([0, 0, 0, 1])\n",
        "\n",
        "# Crear el modelo Perceptrón de sklearn\n",
        "# tol: Criterio de parada. n_iter_no_change: # de iteraciones sin mejora para detenerse.\n",
        "model_and = Perceptron(tol=1e-3, random_state=0)\n",
        "\n",
        "# Entrenar el modelo\n",
        "model_and.fit(X_and, y_and)\n",
        "\n",
        "print(\"--- Compuerta AND ---\")\n",
        "print(f\"Pesos aprendidos: {model_and.coef_}\")\n",
        "print(f\"Sesgo (bias) aprendido: {model_and.intercept_}\")\n",
        "\n",
        "# Realizar predicciones\n",
        "print(\"\\nPredicciones para las entradas AND:\")\n",
        "print(f\"Predicción para [0, 0]: {model_and.predict([[0, 0]])[0]}\")\n",
        "print(f\"Predicción para [0, 1]: {model_and.predict([[0, 1]])[0]}\")\n",
        "print(f\"Predicción para [1, 0]: {model_and.predict([[1, 0]])[0]}\")\n",
        "print(f\"Predicción para [1, 1]: {model_and.predict([[1, 1]])[0]}\")"
      ]
    },
    {
      "cell_type": "code",
      "source": [
        "# Datos de entrenamiento para la compuerta OR\n",
        "# Entradas (X): [0,0], [0,1], [1,0], [1,1]\n",
        "X_or = np.array([[0, 0], [0, 1], [1, 0], [1, 1]])\n",
        "# Salidas (y): 0, 1, 1, 1\n",
        "y_or = np.array([0, 1, 1, 1])\n",
        "\n",
        "# Crear y entrenar el modelo Perceptrón\n",
        "model_or = Perceptron(tol=1e-3, random_state=0)\n",
        "model_or.fit(X_or, y_or)\n",
        "\n",
        "print(\"\\n--- Compuerta OR ---\")\n",
        "print(f\"Pesos aprendidos: {model_or.coef_}\")\n",
        "print(f\"Sesgo (bias) aprendido: {model_or.intercept_}\")\n",
        "\n",
        "# Realizar predicciones\n",
        "print(\"\\nPredicciones para las entradas OR:\")\n",
        "print(f\"Predicción para [0, 0]: {model_or.predict([[0, 0]])[0]}\")\n",
        "print(f\"Predicción para [0, 1]: {model_or.predict([[0, 1]])[0]}\")\n",
        "print(f\"Predicción para [1, 0]: {model_or.predict([[1, 0]])[0]}\")\n",
        "print(f\"Predicción para [1, 1]: {model_or.predict([[1, 1]])[0]}\")"
      ],
      "metadata": {
        "colab": {
          "base_uri": "https://localhost:8080/"
        },
        "id": "vKrRBUGOJM5q",
        "outputId": "c16e7a64-a954-4193-a586-21932f581eee"
      },
      "execution_count": 35,
      "outputs": [
        {
          "output_type": "stream",
          "name": "stdout",
          "text": [
            "\n",
            "--- Compuerta OR ---\n",
            "Pesos aprendidos: [[2. 2.]]\n",
            "Sesgo (bias) aprendido: [-1.]\n",
            "\n",
            "Predicciones para las entradas OR:\n",
            "Predicción para [0, 0]: 0\n",
            "Predicción para [0, 1]: 1\n",
            "Predicción para [1, 0]: 1\n",
            "Predicción para [1, 1]: 1\n"
          ]
        }
      ]
    }
  ]
}