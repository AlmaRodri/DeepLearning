{
  "nbformat": 4,
  "nbformat_minor": 0,
  "metadata": {
    "colab": {
      "provenance": []
    },
    "kernelspec": {
      "name": "python3",
      "display_name": "Python 3"
    },
    "language_info": {
      "name": "python"
    }
  },
  "cells": [
    {
      "cell_type": "markdown",
      "source": [
        "# Tutorial: Red Neuronal (MLP) con Backpropagation para resolver XOR\n",
        "Aprenderás los fundamentos de una Red Neuronal Multicapa (MLP) y cómo implementar una usando scikit-learn en Python para resolver el clásico problema de la compuerta lógica XOR.\n",
        "\n",
        "## 1. Fundamentos Teóricos: Red Neuronal Backpropagation\n",
        "Una Red Neuronal Multicapa es un tipo de red neuronal artificial de alimentación directa (feedforward). Se compone de al menos tres capas de nodos (neuronas):\n",
        "\n",
        "+ Capa de Entrada (Input Layer): Recibe los datos iniciales (features). En nuestro caso, serán dos valores binarios [0, 1].\n",
        "\n",
        "+ Capa Oculta (Hidden Layer): Una o más capas intermedias. Estas capas transforman los datos de entrada en una representación que la capa de salida sí puede separar linealmente.\n",
        "\n",
        "+ Capa de Salida (Output Layer): Produce el resultado final. Para XOR, será un solo valor (0 o 1).\n",
        "\n",
        "El término Backpropagation (Retropropagación) no es la red en sí, sino el algoritmo de entrenamiento que usan estas redes. Es el método para ajustar los \"pesos\" (la fuerza de conexión) entre las neuronas.\n",
        "\n",
        "El proceso funciona en dos fases:\n",
        "\n",
        "**Forward Pass** (Hacia adelante): Los datos de entrada fluyen desde la capa de entrada, a través de las capas ocultas, hasta la capa de salida para hacer una predicción.\n",
        "\n",
        "**Backward Pass** (Hacia atrás):\n",
        "\n",
        "Se calcula el error (la diferencia entre la predicción y el valor real esperado).\n",
        "\n",
        "Este error se propaga \"hacia atrás\", desde la capa de salida hasta la de entrada.\n",
        "\n",
        "Usando la regla de la cadena, la red determina la contribución de cada peso a ese error.\n",
        "\n",
        "Finalmente, ajusta los pesos ligeramente para reducir el error en la próxima iteración.\n",
        "\n",
        "Este ciclo de forward y backward pass se repite muchas veces (llamadas epochs o épocas) hasta que el error de la red es lo suficientemente bajo."
      ],
      "metadata": {
        "id": "_SydS3xlGhgj"
      }
    },
    {
      "cell_type": "markdown",
      "source": [
        "## 2. Fundamentos Matemáticos\n",
        "A continuación, se presenta la matemática de forma simplificada para una red con una capa de entrada ($X$), una capa oculta (denotada con superíndice $[1]$) y una capa de salida (denotada con $[2]$).\n",
        "###2.1 Forward Pass (Propagación Hacia Adelante)\n",
        "El objetivo es calcular la predicción final ($\\hat{Y}$), avanzando desde la entrada hasta la salida.\n",
        "+ **Capa Oculta:** Cálculo lineal (la suma ponderada de las entradas más el sesgo):$$Z^{[1]} = W^{[1]} X + b^{[1]}$$$X$: Datos de entrada.\n",
        "\n",
        "$W^{[1]}$: Matriz de pesos de la capa 1.\n",
        "\n",
        "$b^{[1]}$: Vector de sesgos (biases) de la capa 1.\n",
        "\n",
        "+ Función de Activación (introduce la no linealidad):\n",
        "$$A^{[1]} = g(Z^{[1]})$$$g$: Una función no lineal como ReLU o Sigmoide.\n",
        "$A^{[1]}$ es la salida de la capa oculta.\n",
        "\n",
        "\n",
        "+ **Capa de Salida:** Cálculo lineal (usando la salida de la capa oculta $A^{[1]}$ como entrada):$$Z^{[2]} = W^{[2]} A^{[1]} + b^{[2]}$$Función de Activación (para clasificación binaria, usamos Sigmoide para obtener una probabilidad entre 0 y 1):$$\\hat{Y} = A^{[2]} = \\sigma(Z^{[2]})$$$\\sigma$: La función Sigmoide, definida como $\\sigma(z) = \\frac{1}{1 + e^{-z}}$.\n",
        "\n",
        "+ **Cálculo del Costo** (Error): Usamos una \"Función de Costo\" (Loss Function) para medir qué tan \"equivocada\" está la predicción $\\hat{Y}$ en comparación con la etiqueta real $Y$. Para clasificación binaria, se usa la Entropía Cruzada Binaria (Binary Cross-Entropy):$$J = -\\frac{1}{m} \\sum_{i=1}^{m} [y^{(i)} \\log(\\hat{y}^{(i)}) + (1-y^{(i)}) \\log(1-\\hat{y}^{(i)})]$$$m$: Número de ejemplos de entrenamiento.\n",
        "### 2.2 Backward Pass (Retropropagación)\n",
        "El objetivo es encontrar cómo cambiar $W$ y $b$ para minimizar el costo $J$. Esto se hace calculando las derivadas parciales (gradientes) del costo $J$ con respecto a cada parámetro ($W^{[1]}, b^{[1]}, W^{[2]}, b^{[2]}$), usando la regla de la cadena de cálculo.\n",
        "\n",
        "**Gradiantes de la Capa de Salida** ($[2]$):(Derivada del Costo respecto a $Z^{[2]}$):$$dZ^{[2]} = A^{[2]} - Y$$\n",
        "(Derivada respecto a $W^{[2]}$):$$dW^{[2]} = \\frac{1}{m} dZ^{[2]} (A^{[1]})^T$$\n",
        "(Derivada respecto a $b^{[2]}$):$$db^{[2]} = \\frac{1}{m} \\text{np.sum}(dZ^{[2]})$$\n",
        "**Gradiantes de la Capa Oculta ($[1]$):**  (Propagamos el error hacia atrás, a $A^{[1]}$):$$dA^{[1]} = (W^{[2]})^T dZ^{[2]}$$(Derivada respecto a $Z^{[1]}$):$$dZ^{[1]} = dA^{[1]} * g'(Z^{[1]})$$$g'$: Es la derivada de la función de activación de la capa oculta (ej. $g'(\\text{ReLU})$).$*$: Multiplicación elemento por elemento (Hadamard product).\n",
        "(Derivada respecto a $W^{[1]}$):$$dW^{[1]} = \\frac{1}{m} dZ^{[1]} X^T$$\n",
        "(Derivada respecto a $b^{[1]}$):$$db^{[1]} = \\frac{1}{m} \\text{np.sum}(dZ^{[1]})$$\n",
        "**Actualización de Pesos (Descenso de Gradiente):** Finalmente, ajustamos los parámetros en la dirección opuesta al gradiente para minimizar el error.$\\alpha$ (alfa) es la \"tasa de aprendizaje\" (learning rate).$$W = W - \\alpha \\cdot dW$$$$b = b - \\alpha \\cdot db$$"
      ],
      "metadata": {
        "id": "FTzru1sUKhqc"
      }
    },
    {
      "cell_type": "markdown",
      "source": [
        "## 3. Implementación con scikit-learn\n",
        "Afortunadamente, no necesitamos implementar toda esa matemática desde cero. La librería scikit-learn nos proporciona una clase llamada MLPClassifier que hace todo el trabajo pesado por nosotros.\n",
        "\n",
        "MLPClassifier (Clasificador de Perceptrón Multicapa) implementa una red neuronal backpropagation optimizada para tareas de clasificación."
      ],
      "metadata": {
        "id": "VrIfaljtSbEy"
      }
    },
    {
      "cell_type": "markdown",
      "source": [
        "## 4. Descripción de Librerías y Funciones\n",
        "En nuestro código, usaremos las siguientes herramientas:\n",
        "+ numpy: Es la biblioteca fundamental para la computación científica en Python. La usaremos para crear nuestros arreglos (arrays) de datos de entrada $X$ y salida $y$.\n",
        "+ sklearn.neural_network.MLPClassifier: Esta es la clase principal que implementa la red neuronal.\n",
        "  + hidden_layer_sizes=(n_neuronas, ...): Define la arquitectura. Es una tupla que indica cuántas neuronas hay en cada capa oculta.\n",
        "  + activation='relu': La función de activación para las capas ocultas. 'relu' (Unidad Lineal Rectificada) es la más común y eficiente.\n",
        "  + solver='adam': El algoritmo optimizador para actualizar los pesos. 'adam' es un optimizador robusto y muy popular que funciona bien en la mayoría de los casos.\n",
        "  + max_iter=...: El número máximo de épocas (ciclos de entrenamiento) que la red ejecutará.\n",
        "  + learning_rate_init=...: La tasa de aprendizaje inicial ($\\alpha$).\n",
        "  + random_state=...: Un número fijo para inicializar los pesos aleatorios. Usar esto asegura que nuestros resultados sean reproducibles; si volvemos a ejecutar el código, obtendremos exactamente la misma red entrenada.\n",
        "+ sklearn.metrics: Un módulo de Scikit-learn que contiene herramientas para evaluar el rendimiento del modelo.\n",
        "  + accuracy_score: Calcula la precisión global.\n",
        "  + confusion_matrix: Genera una matriz de confusión."
      ],
      "metadata": {
        "id": "Phiav9i2Sti_"
      }
    },
    {
      "cell_type": "markdown",
      "source": [
        "## 5. Pipeline de Implementación\n",
        "\n",
        "### 5.1 Preparación y Selección del Modelo\n",
        "Primero, importamos las librerías y definimos nuestros datos XOR.\n",
        "\n",
        "¿Por qué una Red Neuronal?\n",
        "\n",
        "Necesitamos un modelo que pueda crear fronteras de decisión no lineales. Una Red Neuronal Multicapa (MLP) con al menos una capa oculta es capaz de hacer esto. La capa oculta transforma el espacio de entrada en un nuevo espacio de características, permitiendo a la capa de salida hacer la clasificación correcta."
      ],
      "metadata": {
        "id": "AzoQNnUcUljZ"
      }
    },
    {
      "cell_type": "code",
      "source": [
        "# Red Neuronal (MLP) con Backpropagation para resolver el problema XOR\n",
        "# Autor: Alma Rodríguez\n",
        "\n",
        "import numpy as np\n",
        "from sklearn.neural_network import MLPClassifier\n",
        "from sklearn.metrics import accuracy_score, confusion_matrix\n",
        "import matplotlib.pyplot as plt\n",
        "import seaborn as sns\n",
        "\n",
        "# 1. Datos del problema XOR\n",
        "# X son las entradas\n",
        "X = np.array([[0, 0],[0, 1],[1, 0],[1, 1]])\n",
        "\n",
        "# y son las salidas esperadas\n",
        "y = np.array([0, 1, 1, 0])\n",
        "\n",
        "print(\"Datos de Entrada (X):\")\n",
        "print(X)\n",
        "print(\"\\nDatos de Salida (y):\")\n",
        "print(y)"
      ],
      "metadata": {
        "colab": {
          "base_uri": "https://localhost:8080/"
        },
        "id": "pfW7fk-aU-0E",
        "outputId": "8cb7f164-28f2-41e5-9e86-4ade7cba0207"
      },
      "execution_count": 1,
      "outputs": [
        {
          "output_type": "stream",
          "name": "stdout",
          "text": [
            "Datos de Entrada (X):\n",
            "[[0 0]\n",
            " [0 1]\n",
            " [1 0]\n",
            " [1 1]]\n",
            "\n",
            "Datos de Salida (y):\n",
            "[0 1 1 0]\n"
          ]
        }
      ]
    },
    {
      "cell_type": "markdown",
      "source": [
        "## 5.2 Entrenamiento del Modelo (Model Training)\n",
        "Aquí, creamos una instancia de MLPClassifier.\n",
        "\n",
        "Usaremos una arquitectura simple:\n",
        "\n",
        "Una capa oculta con 3 neuronas: hidden_layer_sizes=(3,)\n",
        "\n",
        "Función de activación ReLU: activation='relu'\n",
        "\n",
        "Optimizador Adam: solver='adam'\n",
        "\n",
        "Un número alto de iteraciones para asegurar que converja: max_iter=3000\n",
        "\n",
        "Una tasa de aprendizaje de 0.01: learning_rate_init=0.001\n",
        "\n",
        "Un random_state para reproducibilidad.\n",
        "\n",
        "Luego, entrenamos el modelo usando el método .fit(X, y)."
      ],
      "metadata": {
        "id": "Rcdnp43-VeRO"
      }
    },
    {
      "cell_type": "code",
      "source": [
        "# 2. Creamos y entrenamos la Red Neuronal\n",
        "print(\"Entrenando la Red Neuronal...\")\n",
        "\n",
        "# Definimos el modelo MLP\n",
        "mlp = MLPClassifier(\n",
        "    hidden_layer_sizes=(3,),  # Una capa oculta con 3 neuronas\n",
        "    activation='relu',        # Función de activación\n",
        "    solver='adam',            # Optimizador\n",
        "    max_iter=3000,            # Máximas épocas de entrenamiento\n",
        "    learning_rate_init=0.001,  # Tasa de aprendizaje\n",
        "    random_state=42           # Semilla para reproducibilidad\n",
        ")\n",
        "\n",
        "# Entrenamos el modelo\n",
        "mlp.fit(X, y)\n",
        "\n",
        "print(\"Entrenamiento completado\")"
      ],
      "metadata": {
        "colab": {
          "base_uri": "https://localhost:8080/"
        },
        "id": "GaNY_OBmVvQ-",
        "outputId": "0dfd5c8d-ae4f-44e2-a351-7edf2c106387"
      },
      "execution_count": 2,
      "outputs": [
        {
          "output_type": "stream",
          "name": "stdout",
          "text": [
            "Entrenando la Red Neuronal...\n",
            "Entrenamiento completado\n"
          ]
        }
      ]
    },
    {
      "cell_type": "markdown",
      "source": [
        "## 5.3 Predicción (Prediction)\n",
        "Ahora que el modelo está entrenado, podemos usar el método .predict() para ver qué responde a las entradas XOR.\n",
        "Creamos una función simple que recorre todas las combinaciones de entrada de $X$, obtiene la predicción del modelo y la compara con la salida esperada $y$."
      ],
      "metadata": {
        "id": "-m0nlDclWIBO"
      }
    },
    {
      "cell_type": "code",
      "source": [
        "# 3. Función de Predicción y Comprobación\n",
        "def comprobar_xor(model, X_data, y_data):\n",
        "    \"\"\"\n",
        "    Muestra la comparación entre las predicciones del modelo\n",
        "    y los valores reales del problema XOR.\n",
        "    \"\"\"\n",
        "    print(\"\\n Comprobando Predicciones\")\n",
        "    predictions = model.predict(X_data)\n",
        "\n",
        "    for i in range(len(X_data)):\n",
        "        entrada = X_data[i]\n",
        "        prediccion = predictions[i]\n",
        "        esperado = y_data[i]\n",
        "\n",
        "        status = \"Correcto\" if prediccion == esperado else \"INCORRECTO\"\n",
        "\n",
        "        print(f\"Entrada: {entrada} -> Predicción: {prediccion} (Esperado: {esperado}) ... {status}\")\n",
        "\n",
        "# Llamamos a la función con nuestro modelo entrenado\n",
        "comprobar_xor(mlp, X, y)"
      ],
      "metadata": {
        "colab": {
          "base_uri": "https://localhost:8080/"
        },
        "id": "pqu_K1iYWTgB",
        "outputId": "4490dc2e-a8b9-43f9-e306-da1c6cdc6d47"
      },
      "execution_count": 3,
      "outputs": [
        {
          "output_type": "stream",
          "name": "stdout",
          "text": [
            "\n",
            " Comprobando Predicciones\n",
            "Entrada: [0 0] -> Predicción: 0 (Esperado: 0) ... Correcto\n",
            "Entrada: [0 1] -> Predicción: 1 (Esperado: 1) ... Correcto\n",
            "Entrada: [1 0] -> Predicción: 1 (Esperado: 1) ... Correcto\n",
            "Entrada: [1 1] -> Predicción: 0 (Esperado: 0) ... Correcto\n"
          ]
        }
      ]
    },
    {
      "cell_type": "markdown",
      "source": [
        "### 5.4 Evaluación del Modelo (Model Evaluation)\n",
        "Aunque nuestra función de comprobación nos da una buena idea, en Machine Learning usamos métricas formales para evaluar el rendimiento.\n",
        "\n",
        "Accuracy (Precisión Global)\n",
        "\n",
        "Descripción: Es la métrica más simple. Mide el porcentaje total de predicciones que fueron correctas.\n",
        "\n",
        "Fórmula: $\\text{Accuracy} = \\frac{\\text{Predicciones Correctas}}{\\text{Total de Predicciones}} = \\frac{TP + TN}{TP + TN + FP + FN}$\n",
        "\n",
        "Confusion Matrix (Matriz de Confusión)\n",
        "\n",
        "Descripción: Es una tabla que desglosa el rendimiento del modelo, mostrando dónde se confunde. Es especialmente útil en problemas con clases desbalanceadas (aunque XOR es balanceado).\n",
        "\n",
        "Elementos:\n",
        "\n",
        "+ True Negative (TN): (Arriba-Izquierda) La red predijo 0 y el valor real era 0.\n",
        "\n",
        "+ False Positive (FP): (Arriba-Derecha) La red predijo 1, pero el valor real era 0. (Error Tipo I)\n",
        "\n",
        "+ False Negative (FN): (Abajo-Izquierda) La red predijo 0, pero el valor real era 1. (Error Tipo II)\n",
        "\n",
        "+ True Positive (TP): (Abajo-Derecha) La red predijo 1 y el valor real era 1.\n",
        "\n",
        "Para un modelo perfecto, todos los valores estarían en la diagonal principal (TN y TP), y los valores de FP y FN serían cero."
      ],
      "metadata": {
        "id": "dCBdleyZWnje"
      }
    },
    {
      "cell_type": "code",
      "source": [
        "# 4. Evaluación del modelo\n",
        "print(\"\\n Evaluación del modelo\")\n",
        "\n",
        "# Obtenemos las predicciones para usarlas en las métricas\n",
        "y_pred = mlp.predict(X)\n",
        "\n",
        "# Accuracy Precisión Global\n",
        "acc = accuracy_score(y, y_pred)\n",
        "print(f\"\\nAccuracy: {acc * 100:.2f}%\")\n",
        "print(f\"\\n Precisión del modelo: {acc * 100:.2f}% \")\n",
        "\n",
        "\n",
        "# Matriz de Confusión\n",
        "print(\"\\nMatriz de Confusión:\")\n",
        "cm = confusion_matrix(y, y_pred)\n",
        "print(cm)\n",
        "\n",
        "# Visualización gráfica de la matriz\n",
        "plt.figure(figsize=(6, 4))\n",
        "sns.heatmap(\n",
        "    cm,\n",
        "    annot=True,  # Mostrar los números dentro de las celdas\n",
        "    fmt=\"d\",     # Formato de los números (enteros)\n",
        "    cmap=\"Purples\", # Paleta de colores\n",
        "    xticklabels=[\"Predicción 0\", \"Predicción 1\"],\n",
        "    yticklabels=[\"Real 0\", \"Real 1\"]\n",
        ")\n",
        "plt.title(\"Matriz de Confusión - XOR\")\n",
        "plt.xlabel(\"Predicción del Modelo\")\n",
        "plt.ylabel(\"Valor Real\")\n",
        "plt.show()\n",
        "\n",
        "print(\"\\nInterpretación de la Matriz:\")\n",
        "print(f\"TN (Predijo 0, Era 0): {cm[0][0]}\")\n",
        "print(f\"FP (Predijo 1, Era 0): {cm[0][1]}\")\n",
        "print(f\"FN (Predijo 0, Era 1): {cm[1][0]}\")\n",
        "print(f\"TP (Predijo 1, Era 1): {cm[1][1]}\")"
      ],
      "metadata": {
        "colab": {
          "base_uri": "https://localhost:8080/",
          "height": 688
        },
        "id": "CfRw59sUWsH0",
        "outputId": "19c62ff8-6942-4087-c1f3-96d832382e61"
      },
      "execution_count": 5,
      "outputs": [
        {
          "output_type": "stream",
          "name": "stdout",
          "text": [
            "\n",
            " Evaluación del modelo\n",
            "\n",
            "Accuracy: 100.00%\n",
            "\n",
            " Precisión del modelo: 100.00% \n",
            "\n",
            "Matriz de Confusión:\n",
            "[[2 0]\n",
            " [0 2]]\n"
          ]
        },
        {
          "output_type": "display_data",
          "data": {
            "text/plain": [
              "<Figure size 600x400 with 2 Axes>"
            ],
            "image/png": "[encoded data removed]"
          },
          "metadata": {}
        },
        {
          "output_type": "stream",
          "name": "stdout",
          "text": [
            "\n",
            "Interpretación de la Matriz:\n",
            "TN (Predijo 0, Era 0): 2\n",
            "FP (Predijo 1, Era 0): 0\n",
            "FN (Predijo 0, Era 1): 0\n",
            "TP (Predijo 1, Era 1): 2\n"
          ]
        }
      ]
    }
  ]
}